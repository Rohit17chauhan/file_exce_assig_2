{
 "cells": [
  {
   "cell_type": "code",
   "execution_count": 1,
   "id": "5fc20e99-49d2-4395-b3c8-8a798b044040",
   "metadata": {},
   "outputs": [
    {
     "data": {
      "text/plain": [
       "' Q1. Explain why we have to use the Exception class while creating a Custom Exception. '"
      ]
     },
     "execution_count": 1,
     "metadata": {},
     "output_type": "execute_result"
    }
   ],
   "source": [
    "\"\"\" Q1. Explain why we have to use the Exception class while creating a Custom Exception. \"\"\""
   ]
  },
  {
   "cell_type": "code",
   "execution_count": 2,
   "id": "1b0d8ff8-51ef-4bf0-97b2-b27bf0874659",
   "metadata": {},
   "outputs": [],
   "source": [
    "Ans1=\"In Python, when we create a custom exception, it is recommended to inherit from the Exception class or one of its subclasses,Consistency and Clarity: Python has a well-defined hierarchy of exception classes, with BaseException at the root. By creating custom exceptions that inherit from the existing exception classes,Exception Handling: When you raise a custom exception, it's important that it behaves like other built-in exceptions. Inheriting from the Exception class ensures that your custom exception can be caught and handled using the same mechanisms as standard exceptions. For example, you can use a try and except block to catch and handle your custom exception just like you would with built-in exceptions.\""
   ]
  },
  {
   "cell_type": "code",
   "execution_count": 3,
   "id": "69ab1bd8-f1b7-4381-9887-c57356f32bf5",
   "metadata": {},
   "outputs": [
    {
     "data": {
      "text/plain": [
       "\"In Python, when you create a custom exception, it is recommended to inherit from the Exception class or one of its subclasses,Consistency and Clarity: Python has a well-defined hierarchy of exception classes, with BaseException at the root. By creating custom exceptions that inherit from the existing exception classes,Exception Handling: When you raise a custom exception, it's important that it behaves like other built-in exceptions. Inheriting from the Exception class ensures that your custom exception can be caught and handled using the same mechanisms as standard exceptions. For example, you can use a try and except block to catch and handle your custom exception just like you would with built-in exceptions.\""
      ]
     },
     "execution_count": 3,
     "metadata": {},
     "output_type": "execute_result"
    }
   ],
   "source": [
    "Ans1"
   ]
  },
  {
   "cell_type": "code",
   "execution_count": 4,
   "id": "07be0443-f904-4694-b07e-ae5f65a9d4fe",
   "metadata": {},
   "outputs": [
    {
     "data": {
      "text/plain": [
       "'Q2. Write a python program to print Python Exception Hierarchy.'"
      ]
     },
     "execution_count": 4,
     "metadata": {},
     "output_type": "execute_result"
    }
   ],
   "source": [
    "\"\"\"Q2. Write a python program to print Python Exception Hierarchy.\"\"\""
   ]
  },
  {
   "cell_type": "code",
   "execution_count": null,
   "id": "7769d70d-4fac-4b33-b53b-484906172cd3",
   "metadata": {},
   "outputs": [],
   "source": []
  },
  {
   "cell_type": "code",
   "execution_count": null,
   "id": "6b0dbefb-6d68-4aac-a2a6-1a0e92011215",
   "metadata": {},
   "outputs": [],
   "source": []
  },
  {
   "cell_type": "code",
   "execution_count": 5,
   "id": "f816eb0c-0384-4ef5-af81-6b8efd363ec6",
   "metadata": {},
   "outputs": [
    {
     "data": {
      "text/plain": [
       "' Q3. What errors are defined in the ArithmeticError class? Explain any two with an example. '"
      ]
     },
     "execution_count": 5,
     "metadata": {},
     "output_type": "execute_result"
    }
   ],
   "source": [
    "\"\"\" Q3. What errors are defined in the ArithmeticError class? Explain any two with an example. \"\"\""
   ]
  },
  {
   "cell_type": "code",
   "execution_count": 6,
   "id": "6f2c1002-cead-404d-a302-a74c5b4ff155",
   "metadata": {},
   "outputs": [],
   "source": [
    "Ans3=\"he ArithmeticError class is a base class for exceptions that are related to arithmetic operations in Python\""
   ]
  },
  {
   "cell_type": "code",
   "execution_count": 7,
   "id": "b22f5e67-ede0-43cb-b2e4-ceda46896628",
   "metadata": {},
   "outputs": [
    {
     "data": {
      "text/plain": [
       "'he ArithmeticError class is a base class for exceptions that are related to arithmetic operations in Python'"
      ]
     },
     "execution_count": 7,
     "metadata": {},
     "output_type": "execute_result"
    }
   ],
   "source": [
    "Ans3"
   ]
  },
  {
   "cell_type": "code",
   "execution_count": 8,
   "id": "81754ddb-5fe3-451b-9b4f-24a1b7d3fd96",
   "metadata": {},
   "outputs": [
    {
     "name": "stdout",
     "output_type": "stream",
     "text": [
      "division by zero\n"
     ]
    }
   ],
   "source": [
    "try:\n",
    "    10/0\n",
    "except Exception as e:\n",
    "    print(e)"
   ]
  },
  {
   "cell_type": "code",
   "execution_count": 9,
   "id": "a58ee44f-18f3-4ce3-af70-904399d9ef05",
   "metadata": {},
   "outputs": [
    {
     "name": "stdout",
     "output_type": "stream",
     "text": [
      " this is our second example\n",
      "division by zero\n"
     ]
    }
   ],
   "source": [
    "try:\n",
    "    print(\" this is our second example\")\n",
    "    120/0\n",
    "    \n",
    "except ZeroDivisionError as e:\n",
    "    print(e)"
   ]
  },
  {
   "cell_type": "code",
   "execution_count": 10,
   "id": "81d2b1d3-c839-4ac9-9f9c-25517bf43649",
   "metadata": {},
   "outputs": [
    {
     "data": {
      "text/plain": [
       "' Q4. Why LookupError class is used? Explain with an example KeyError and IndexError.'"
      ]
     },
     "execution_count": 10,
     "metadata": {},
     "output_type": "execute_result"
    }
   ],
   "source": [
    "\"\"\" Q4. Why LookupError class is used? Explain with an example KeyError and IndexError.\"\"\""
   ]
  },
  {
   "cell_type": "code",
   "execution_count": 11,
   "id": "a4843fed-ccc4-4812-8979-bea999210981",
   "metadata": {},
   "outputs": [],
   "source": [
    "ans4=\"The LookupError class in Python is a base class for exceptions that are raised when a lookup (i.e., searching for a value) fails.\""
   ]
  },
  {
   "cell_type": "code",
   "execution_count": 12,
   "id": "2d6b51bc-0002-45ae-b869-7e32ce4c040e",
   "metadata": {},
   "outputs": [
    {
     "data": {
      "text/plain": [
       "'The LookupError class in Python is a base class for exceptions that are raised when a lookup (i.e., searching for a value) fails.'"
      ]
     },
     "execution_count": 12,
     "metadata": {},
     "output_type": "execute_result"
    }
   ],
   "source": [
    "ans4"
   ]
  },
  {
   "cell_type": "code",
   "execution_count": 13,
   "id": "f1e5b92f-0d03-487b-a9eb-f8d3fbaba270",
   "metadata": {},
   "outputs": [
    {
     "data": {
      "text/plain": [
       "'Example '"
      ]
     },
     "execution_count": 13,
     "metadata": {},
     "output_type": "execute_result"
    }
   ],
   "source": [
    "\"\"\"Example \"\"\""
   ]
  },
  {
   "cell_type": "code",
   "execution_count": 15,
   "id": "df90a0b3-c7b2-42d9-9562-1d20628a94e0",
   "metadata": {},
   "outputs": [
    {
     "name": "stdout",
     "output_type": "stream",
     "text": [
      "error:'address'\n"
     ]
    }
   ],
   "source": [
    "dic={\" name\":\"Rahul\",\"age\":45}\n",
    "try:\n",
    "    value=dic[\"address\"]\n",
    "except Exception as e:\n",
    "    print(f\"error:{e}\")"
   ]
  },
  {
   "cell_type": "code",
   "execution_count": 16,
   "id": "895e04a2-e8c5-466d-81c4-37da85be10ab",
   "metadata": {},
   "outputs": [
    {
     "name": "stdout",
     "output_type": "stream",
     "text": [
      "Error: list index out of range\n"
     ]
    }
   ],
   "source": [
    "my_list = [1, 2, 3]\n",
    "\n",
    "try:\n",
    "    value = my_list[5]  \n",
    "except IndexError as e:\n",
    "    print(f\"Error: {e}\")\n"
   ]
  },
  {
   "cell_type": "code",
   "execution_count": 17,
   "id": "2b9e5bbe-2d3a-4609-936b-0a32fb574079",
   "metadata": {},
   "outputs": [
    {
     "data": {
      "text/plain": [
       "'Q5. Explain ImportError. What is ModuleNotFoundError?'"
      ]
     },
     "execution_count": 17,
     "metadata": {},
     "output_type": "execute_result"
    }
   ],
   "source": [
    "\"\"\"Q5. Explain ImportError. What is ModuleNotFoundError?\"\"\""
   ]
  },
  {
   "cell_type": "code",
   "execution_count": 18,
   "id": "035206b6-e105-4a06-9917-ac2df89ebf8d",
   "metadata": {},
   "outputs": [],
   "source": [
    "ans5=\"ImportError is a general exception that is raised when an import statement cannot locate or load a module, but the specific reason for the failure is not known.,  ModuleNotFoundError is a more specific exception introduced in Python 3.6. It is raised when Python cannot find the specified module during import.\""
   ]
  },
  {
   "cell_type": "code",
   "execution_count": 19,
   "id": "4eb57389-e79b-40e4-8204-551ca251a3b0",
   "metadata": {},
   "outputs": [
    {
     "data": {
      "text/plain": [
       "'ImportError is a general exception that is raised when an import statement cannot locate or load a module, but the specific reason for the failure is not known.,  ModuleNotFoundError is a more specific exception introduced in Python 3.6. It is raised when Python cannot find the specified module during import.'"
      ]
     },
     "execution_count": 19,
     "metadata": {},
     "output_type": "execute_result"
    }
   ],
   "source": [
    "ans5"
   ]
  },
  {
   "cell_type": "code",
   "execution_count": 20,
   "id": "ff393740-ae1b-4f70-9329-35716856148a",
   "metadata": {},
   "outputs": [
    {
     "data": {
      "text/plain": [
       "'Q6. List down some best practices for exception handling in python.'"
      ]
     },
     "execution_count": 20,
     "metadata": {},
     "output_type": "execute_result"
    }
   ],
   "source": [
    "\"\"\"Q6. List down some best practices for exception handling in python.\"\"\""
   ]
  },
  {
   "cell_type": "code",
   "execution_count": 21,
   "id": "fcb10116-b947-4a6b-a811-d039ed2fa71a",
   "metadata": {},
   "outputs": [
    {
     "data": {
      "text/plain": [
       "['__cause__',\n",
       " '__class__',\n",
       " '__context__',\n",
       " '__delattr__',\n",
       " '__dict__',\n",
       " '__dir__',\n",
       " '__doc__',\n",
       " '__eq__',\n",
       " '__format__',\n",
       " '__ge__',\n",
       " '__getattribute__',\n",
       " '__gt__',\n",
       " '__hash__',\n",
       " '__init__',\n",
       " '__init_subclass__',\n",
       " '__le__',\n",
       " '__lt__',\n",
       " '__ne__',\n",
       " '__new__',\n",
       " '__reduce__',\n",
       " '__reduce_ex__',\n",
       " '__repr__',\n",
       " '__setattr__',\n",
       " '__setstate__',\n",
       " '__sizeof__',\n",
       " '__str__',\n",
       " '__subclasshook__',\n",
       " '__suppress_context__',\n",
       " '__traceback__',\n",
       " 'args',\n",
       " 'with_traceback']"
      ]
     },
     "execution_count": 21,
     "metadata": {},
     "output_type": "execute_result"
    }
   ],
   "source": [
    "dir(Exception)"
   ]
  },
  {
   "cell_type": "code",
   "execution_count": null,
   "id": "0b9a99cc-3117-4733-b2f4-9a0d0a260b48",
   "metadata": {},
   "outputs": [],
   "source": []
  }
 ],
 "metadata": {
  "kernelspec": {
   "display_name": "Python 3 (ipykernel)",
   "language": "python",
   "name": "python3"
  },
  "language_info": {
   "codemirror_mode": {
    "name": "ipython",
    "version": 3
   },
   "file_extension": ".py",
   "mimetype": "text/x-python",
   "name": "python",
   "nbconvert_exporter": "python",
   "pygments_lexer": "ipython3",
   "version": "3.10.8"
  }
 },
 "nbformat": 4,
 "nbformat_minor": 5
}
